{
 "cells": [
  {
   "cell_type": "code",
   "execution_count": 2,
   "id": "d9e63d0f",
   "metadata": {},
   "outputs": [],
   "source": [
    "import sys\n",
    "sys.path.append(\"..\")"
   ]
  },
  {
   "cell_type": "code",
   "execution_count": null,
   "id": "8912457f",
   "metadata": {},
   "outputs": [],
   "source": [
    "import torch\n",
    "\n",
    "from src.datikz_data import DatikzCaptionDataset, collate_fn\n",
    "from src.utils import load_model\n",
    "from src.evaluate_captioning import generate_captions"
   ]
  },
  {
   "cell_type": "code",
   "execution_count": null,
   "id": "d3b7df20",
   "metadata": {},
   "outputs": [
    {
     "name": "stdout",
     "output_type": "stream",
     "text": [
      "[info] Loading model from '/taiga/LLaVa-FT-datikz/outputs/llava-datikz-lora/llava-datikz-full' to device cuda:0...\n"
     ]
    },
    {
     "name": "stderr",
     "output_type": "stream",
     "text": [
      "Loading checkpoint shards: 100%|██████████| 3/3 [00:11<00:00,  3.74s/it]\n",
      "Using `use_fast=True` but `torchvision` is not available. Falling back to the slow image processor.\n"
     ]
    },
    {
     "name": "stdout",
     "output_type": "stream",
     "text": [
      "[info] Loading processor (use_fast=True)...\n",
      "✅ Model and processor loaded successfully!\n"
     ]
    }
   ],
   "source": [
    "model_path = \"/taiga/LLaVa-FT-datikz/outputs/llava-datikz-lora/llava-datikz-full\"\n",
    "\n",
    "device = torch.device(\"cuda\" if torch.cuda.is_available() else \"cpu\")\n",
    "model, processor = load_model(model_path)\n",
    "model = model.to(device)\n",
    "model.eval()"
   ]
  },
  {
   "cell_type": "code",
   "execution_count": 13,
   "id": "19c3e996",
   "metadata": {},
   "outputs": [
    {
     "name": "stdout",
     "output_type": "stream",
     "text": [
      "✅ DatikzCaptionDataset initialized with 4830 samples for split 'test'\n"
     ]
    }
   ],
   "source": [
    "dataset = DatikzCaptionDataset(split=\"test\")"
   ]
  },
  {
   "cell_type": "code",
   "execution_count": 14,
   "id": "09757b56",
   "metadata": {},
   "outputs": [],
   "source": [
    "sample_idx = 0\n",
    "\n",
    "image = dataset[sample_idx][\"image\"]\n",
    "label = dataset[sample_idx][\"caption\"]"
   ]
  },
  {
   "cell_type": "code",
   "execution_count": null,
   "id": "62fae672",
   "metadata": {},
   "outputs": [],
   "source": [
    "preds = generate_batch_captions(model, processor, image, device)"
   ]
  }
 ],
 "metadata": {
  "kernelspec": {
   "display_name": "Python 3",
   "language": "python",
   "name": "python3"
  },
  "language_info": {
   "codemirror_mode": {
    "name": "ipython",
    "version": 3
   },
   "file_extension": ".py",
   "mimetype": "text/x-python",
   "name": "python",
   "nbconvert_exporter": "python",
   "pygments_lexer": "ipython3",
   "version": "3.10.6"
  }
 },
 "nbformat": 4,
 "nbformat_minor": 5
}
